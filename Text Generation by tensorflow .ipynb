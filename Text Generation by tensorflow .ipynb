{
 "cells": [
  {
   "cell_type": "markdown",
   "id": "be89cf27",
   "metadata": {},
   "source": [
    "* The model is character-based. When training started, the model did not know how to spell an English word, or that words were even a unit of text.\n",
    "\n",
    "* The structure of the output resembles a play—blocks of text generally begin with a speaker name, in all capital letters similar to the dataset.\n",
    "\n",
    "* As demonstrated below, the model is trained on small batches of text (100 characters each), and is still able to generate a longer sequence of text with coherent structure."
   ]
  },
  {
   "cell_type": "code",
   "execution_count": 1,
   "id": "235f565e",
   "metadata": {},
   "outputs": [],
   "source": [
    "import tensorflow as tf\n",
    "\n",
    "import numpy as np\n",
    "import os\n",
    "import time"
   ]
  },
  {
   "cell_type": "code",
   "execution_count": 2,
   "id": "1f518c8f",
   "metadata": {},
   "outputs": [],
   "source": [
    "# downloading the shakespare dataset\n",
    "path_to_file = tf.keras.utils.get_file('shakespeare.txt', 'https://storage.googleapis.com/download.tensorflow.org/data/shakespeare.txt')"
   ]
  },
  {
   "cell_type": "code",
   "execution_count": 3,
   "id": "e21651d1",
   "metadata": {},
   "outputs": [
    {
     "data": {
      "text/plain": [
       "'C:\\\\Users\\\\MASUM\\\\.keras\\\\datasets\\\\shakespeare.txt'"
      ]
     },
     "execution_count": 3,
     "metadata": {},
     "output_type": "execute_result"
    }
   ],
   "source": [
    "path_to_file"
   ]
  },
  {
   "cell_type": "code",
   "execution_count": 4,
   "id": "50ce44f6",
   "metadata": {},
   "outputs": [
    {
     "name": "stdout",
     "output_type": "stream",
     "text": [
      "length of text: 1115394 characters\n"
     ]
    }
   ],
   "source": [
    "text = open(path_to_file, 'rb').read().decode(encoding='utf-8')\n",
    "# length of text is the number of characters in it\n",
    "print(f\"length of text: {len(text)} characters\")"
   ]
  },
  {
   "cell_type": "code",
   "execution_count": null,
   "id": "9cf8bda1",
   "metadata": {},
   "outputs": [],
   "source": []
  },
  {
   "cell_type": "code",
   "execution_count": 5,
   "id": "3fd44283",
   "metadata": {},
   "outputs": [
    {
     "name": "stdout",
     "output_type": "stream",
     "text": [
      "First Citizen:\n",
      "Before we proceed any further, hear me speak.\n",
      "\n",
      "All:\n",
      "Speak, speak.\n",
      "\n",
      "First Citizen:\n",
      "You are all resolved rather to die than to famish?\n",
      "\n",
      "All:\n",
      "Resolved. resolved.\n",
      "\n",
      "First Citizen:\n",
      "First, you know Caius Marcius is chief enemy to the people.\n",
      "\n"
     ]
    }
   ],
   "source": [
    "# Take a look at the first 250 characters in text\n",
    "print(text[:250])"
   ]
  },
  {
   "cell_type": "code",
   "execution_count": 6,
   "id": "fe7f6d29",
   "metadata": {},
   "outputs": [
    {
     "name": "stdout",
     "output_type": "stream",
     "text": [
      "65 unique characters\n"
     ]
    }
   ],
   "source": [
    "vocab = sorted(set(text))\n",
    "print(f\"{len(vocab)} unique characters\")"
   ]
  },
  {
   "cell_type": "code",
   "execution_count": 97,
   "id": "b8d6b4bf",
   "metadata": {},
   "outputs": [
    {
     "name": "stdout",
     "output_type": "stream",
     "text": [
      "['\\n', ' ', '!', '$', '&', \"'\", ',', '-', '.', '3', ':', ';', '?', 'A', 'B', 'C', 'D', 'E', 'F', 'G', 'H', 'I', 'J', 'K', 'L', 'M', 'N', 'O', 'P', 'Q', 'R', 'S', 'T', 'U', 'V', 'W', 'X', 'Y', 'Z', 'a', 'b', 'c', 'd', 'e', 'f', 'g', 'h', 'i', 'j', 'k', 'l', 'm', 'n', 'o', 'p', 'q', 'r', 's', 't', 'u', 'v', 'w', 'x', 'y', 'z']\n"
     ]
    }
   ],
   "source": [
    "print(vocab)"
   ]
  },
  {
   "cell_type": "markdown",
   "id": "54dfd5f9",
   "metadata": {},
   "source": [
    "### Process the text\n",
    "\n",
    "**Vectorize the Text:** Before training, you need to convert the strings to a numerical representation"
   ]
  },
  {
   "cell_type": "code",
   "execution_count": 8,
   "id": "a0183ba3",
   "metadata": {},
   "outputs": [
    {
     "data": {
      "text/plain": [
       "<tf.RaggedTensor [[b'a', b'b', b'c', b'd', b'e', b'f', b'g'], [b'x', b'y', b'z']]>"
      ]
     },
     "execution_count": 8,
     "metadata": {},
     "output_type": "execute_result"
    }
   ],
   "source": [
    "example_of_texts = ['abcdefg', 'xyz']\n",
    "chars= tf.strings.unicode_split(example_of_texts, input_encoding='UTF-8')\n",
    "# it split the text into tokens.\n",
    "chars"
   ]
  },
  {
   "cell_type": "code",
   "execution_count": 13,
   "id": "3463be8a",
   "metadata": {},
   "outputs": [],
   "source": [
    "# The tf.keras.layers.StringLookup layer can convert each character into a numeric ID.\n",
    "ids_from_chars = tf.keras.layers.StringLookup(\n",
    "    vocabulary = list(vocab),mask_token=None\n",
    ")\n"
   ]
  },
  {
   "cell_type": "code",
   "execution_count": null,
   "id": "a205cb78",
   "metadata": {},
   "outputs": [],
   "source": []
  },
  {
   "cell_type": "code",
   "execution_count": 14,
   "id": "2153289f",
   "metadata": {},
   "outputs": [
    {
     "data": {
      "text/plain": [
       "<tf.RaggedTensor [[40, 41, 42, 43, 44, 45, 46], [63, 64, 65]]>"
      ]
     },
     "execution_count": 14,
     "metadata": {},
     "output_type": "execute_result"
    }
   ],
   "source": [
    "ids = ids_from_chars(chars)\n",
    "ids"
   ]
  },
  {
   "cell_type": "markdown",
   "id": "34c4dfc7",
   "metadata": {},
   "source": [
    "This representation is not readable for human. so it will also be important to invert this representation and recover human-readable strings from it. "
   ]
  },
  {
   "cell_type": "code",
   "execution_count": 15,
   "id": "e3784c06",
   "metadata": {},
   "outputs": [],
   "source": [
    "chars_from_ids = tf.keras.layers.StringLookup(\n",
    "    vocabulary= ids_from_chars.get_vocabulary(), invert=True, mask_token=None\n",
    ")"
   ]
  },
  {
   "cell_type": "markdown",
   "id": "da94b50d",
   "metadata": {},
   "source": [
    "#### Examples "
   ]
  },
  {
   "cell_type": "code",
   "execution_count": 16,
   "id": "7f21ef1a",
   "metadata": {},
   "outputs": [
    {
     "data": {
      "text/plain": [
       "<tf.RaggedTensor [[b'a', b'b', b'c', b'd', b'e', b'f', b'g'], [b'x', b'y', b'z']]>"
      ]
     },
     "execution_count": 16,
     "metadata": {},
     "output_type": "execute_result"
    }
   ],
   "source": [
    "chars = chars_from_ids(ids)\n",
    "chars"
   ]
  },
  {
   "cell_type": "code",
   "execution_count": 19,
   "id": "0387416c",
   "metadata": {},
   "outputs": [
    {
     "data": {
      "text/plain": [
       "array([b'abcdefg', b'xyz'], dtype=object)"
      ]
     },
     "execution_count": 19,
     "metadata": {},
     "output_type": "execute_result"
    }
   ],
   "source": [
    "tf.strings.reduce_join(chars, axis=-1).numpy()"
   ]
  },
  {
   "cell_type": "code",
   "execution_count": 34,
   "id": "78e775ee",
   "metadata": {},
   "outputs": [],
   "source": [
    "def text_from_ids(ids):\n",
    "    return tf.strings.reduce_join(chars_from_ids(ids), axis=-1)"
   ]
  },
  {
   "cell_type": "markdown",
   "id": "fa5fc9e1",
   "metadata": {},
   "source": [
    "### data preprocessing "
   ]
  },
  {
   "cell_type": "code",
   "execution_count": 22,
   "id": "ab664282",
   "metadata": {},
   "outputs": [
    {
     "data": {
      "text/plain": [
       "<tf.Tensor: shape=(1115394,), dtype=int64, numpy=array([19, 48, 57, ..., 46,  9,  1], dtype=int64)>"
      ]
     },
     "execution_count": 22,
     "metadata": {},
     "output_type": "execute_result"
    }
   ],
   "source": [
    "all_ids = ids_from_chars(tf.strings.unicode_split(text, 'UTF-8'))\n",
    "all_ids"
   ]
  },
  {
   "cell_type": "code",
   "execution_count": 23,
   "id": "6b2b55a6",
   "metadata": {},
   "outputs": [],
   "source": [
    "ids_dataset = tf.data.Dataset.from_tensor_slices(all_ids)"
   ]
  },
  {
   "cell_type": "code",
   "execution_count": 25,
   "id": "d0033259",
   "metadata": {},
   "outputs": [
    {
     "name": "stdout",
     "output_type": "stream",
     "text": [
      "F\n",
      "i\n",
      "r\n",
      "s\n",
      "t\n",
      " \n",
      "C\n",
      "i\n",
      "t\n",
      "i\n"
     ]
    }
   ],
   "source": [
    "for ids in ids_dataset.take(10):\n",
    "    print(chars_from_ids(ids).numpy().decode('utf-8'))"
   ]
  },
  {
   "cell_type": "code",
   "execution_count": 26,
   "id": "3b316e76",
   "metadata": {},
   "outputs": [],
   "source": [
    "seq_length = 100"
   ]
  },
  {
   "cell_type": "code",
   "execution_count": 27,
   "id": "701ad04b",
   "metadata": {},
   "outputs": [
    {
     "name": "stdout",
     "output_type": "stream",
     "text": [
      "tf.Tensor(\n",
      "[b'F' b'i' b'r' b's' b't' b' ' b'C' b'i' b't' b'i' b'z' b'e' b'n' b':'\n",
      " b'\\n' b'B' b'e' b'f' b'o' b'r' b'e' b' ' b'w' b'e' b' ' b'p' b'r' b'o'\n",
      " b'c' b'e' b'e' b'd' b' ' b'a' b'n' b'y' b' ' b'f' b'u' b'r' b't' b'h'\n",
      " b'e' b'r' b',' b' ' b'h' b'e' b'a' b'r' b' ' b'm' b'e' b' ' b's' b'p'\n",
      " b'e' b'a' b'k' b'.' b'\\n' b'\\n' b'A' b'l' b'l' b':' b'\\n' b'S' b'p' b'e'\n",
      " b'a' b'k' b',' b' ' b's' b'p' b'e' b'a' b'k' b'.' b'\\n' b'\\n' b'F' b'i'\n",
      " b'r' b's' b't' b' ' b'C' b'i' b't' b'i' b'z' b'e' b'n' b':' b'\\n' b'Y'\n",
      " b'o' b'u' b' '], shape=(101,), dtype=string)\n",
      "tf.Tensor(\n",
      "[b'a' b'r' b'e' b' ' b'a' b'l' b'l' b' ' b'r' b'e' b's' b'o' b'l' b'v'\n",
      " b'e' b'd' b' ' b'r' b'a' b't' b'h' b'e' b'r' b' ' b't' b'o' b' ' b'd'\n",
      " b'i' b'e' b' ' b't' b'h' b'a' b'n' b' ' b't' b'o' b' ' b'f' b'a' b'm'\n",
      " b'i' b's' b'h' b'?' b'\\n' b'\\n' b'A' b'l' b'l' b':' b'\\n' b'R' b'e' b's'\n",
      " b'o' b'l' b'v' b'e' b'd' b'.' b' ' b'r' b'e' b's' b'o' b'l' b'v' b'e'\n",
      " b'd' b'.' b'\\n' b'\\n' b'F' b'i' b'r' b's' b't' b' ' b'C' b'i' b't' b'i'\n",
      " b'z' b'e' b'n' b':' b'\\n' b'F' b'i' b'r' b's' b't' b',' b' ' b'y' b'o'\n",
      " b'u' b' ' b'k'], shape=(101,), dtype=string)\n",
      "tf.Tensor(\n",
      "[b'n' b'o' b'w' b' ' b'C' b'a' b'i' b'u' b's' b' ' b'M' b'a' b'r' b'c'\n",
      " b'i' b'u' b's' b' ' b'i' b's' b' ' b'c' b'h' b'i' b'e' b'f' b' ' b'e'\n",
      " b'n' b'e' b'm' b'y' b' ' b't' b'o' b' ' b't' b'h' b'e' b' ' b'p' b'e'\n",
      " b'o' b'p' b'l' b'e' b'.' b'\\n' b'\\n' b'A' b'l' b'l' b':' b'\\n' b'W' b'e'\n",
      " b' ' b'k' b'n' b'o' b'w' b\"'\" b't' b',' b' ' b'w' b'e' b' ' b'k' b'n'\n",
      " b'o' b'w' b\"'\" b't' b'.' b'\\n' b'\\n' b'F' b'i' b'r' b's' b't' b' ' b'C'\n",
      " b'i' b't' b'i' b'z' b'e' b'n' b':' b'\\n' b'L' b'e' b't' b' ' b'u' b's'\n",
      " b' ' b'k' b'i'], shape=(101,), dtype=string)\n",
      "tf.Tensor(\n",
      "[b'l' b'l' b' ' b'h' b'i' b'm' b',' b' ' b'a' b'n' b'd' b' ' b'w' b'e'\n",
      " b\"'\" b'l' b'l' b' ' b'h' b'a' b'v' b'e' b' ' b'c' b'o' b'r' b'n' b' '\n",
      " b'a' b't' b' ' b'o' b'u' b'r' b' ' b'o' b'w' b'n' b' ' b'p' b'r' b'i'\n",
      " b'c' b'e' b'.' b'\\n' b'I' b's' b\"'\" b't' b' ' b'a' b' ' b'v' b'e' b'r'\n",
      " b'd' b'i' b'c' b't' b'?' b'\\n' b'\\n' b'A' b'l' b'l' b':' b'\\n' b'N' b'o'\n",
      " b' ' b'm' b'o' b'r' b'e' b' ' b't' b'a' b'l' b'k' b'i' b'n' b'g' b' '\n",
      " b'o' b'n' b\"'\" b't' b';' b' ' b'l' b'e' b't' b' ' b'i' b't' b' ' b'b'\n",
      " b'e' b' ' b'd'], shape=(101,), dtype=string)\n",
      "tf.Tensor(\n",
      "[b'o' b'n' b'e' b':' b' ' b'a' b'w' b'a' b'y' b',' b' ' b'a' b'w' b'a'\n",
      " b'y' b'!' b'\\n' b'\\n' b'S' b'e' b'c' b'o' b'n' b'd' b' ' b'C' b'i' b't'\n",
      " b'i' b'z' b'e' b'n' b':' b'\\n' b'O' b'n' b'e' b' ' b'w' b'o' b'r' b'd'\n",
      " b',' b' ' b'g' b'o' b'o' b'd' b' ' b'c' b'i' b't' b'i' b'z' b'e' b'n'\n",
      " b's' b'.' b'\\n' b'\\n' b'F' b'i' b'r' b's' b't' b' ' b'C' b'i' b't' b'i'\n",
      " b'z' b'e' b'n' b':' b'\\n' b'W' b'e' b' ' b'a' b'r' b'e' b' ' b'a' b'c'\n",
      " b'c' b'o' b'u' b'n' b't' b'e' b'd' b' ' b'p' b'o' b'o' b'r' b' ' b'c'\n",
      " b'i' b't' b'i'], shape=(101,), dtype=string)\n"
     ]
    }
   ],
   "source": [
    "sequences = ids_dataset.batch(seq_length+1, drop_remainder=True)\n",
    "\n",
    "for seq in sequences.take(5):\n",
    "    print(chars_from_ids(seq))"
   ]
  },
  {
   "cell_type": "code",
   "execution_count": 35,
   "id": "6a28ec04",
   "metadata": {},
   "outputs": [
    {
     "name": "stdout",
     "output_type": "stream",
     "text": [
      "b'First Citizen:\\nBefore we proceed any further, hear me speak.\\n\\nAll:\\nSpeak, speak.\\n\\nFirst Citizen:\\nYou '\n",
      "b'are all resolved rather to die than to famish?\\n\\nAll:\\nResolved. resolved.\\n\\nFirst Citizen:\\nFirst, you k'\n",
      "b\"now Caius Marcius is chief enemy to the people.\\n\\nAll:\\nWe know't, we know't.\\n\\nFirst Citizen:\\nLet us ki\"\n",
      "b\"ll him, and we'll have corn at our own price.\\nIs't a verdict?\\n\\nAll:\\nNo more talking on't; let it be d\"\n",
      "b'one: away, away!\\n\\nSecond Citizen:\\nOne word, good citizens.\\n\\nFirst Citizen:\\nWe are accounted poor citi'\n"
     ]
    }
   ],
   "source": [
    "for seq in sequences.take(5):\n",
    "    print(text_from_ids(seq).numpy())"
   ]
  },
  {
   "cell_type": "code",
   "execution_count": 36,
   "id": "9a02c797",
   "metadata": {},
   "outputs": [],
   "source": [
    "def split_input_target(sequence):\n",
    "    input_text = sequence[:-1]\n",
    "    target_text = sequence[1:]\n",
    "    return input_text, target_text"
   ]
  },
  {
   "cell_type": "code",
   "execution_count": 37,
   "id": "c89896b9",
   "metadata": {},
   "outputs": [
    {
     "data": {
      "text/plain": [
       "(['T', 'e', 'n', 's', 'o', 'r', 'f', 'l', 'o'],\n",
       " ['e', 'n', 's', 'o', 'r', 'f', 'l', 'o', 'w'])"
      ]
     },
     "execution_count": 37,
     "metadata": {},
     "output_type": "execute_result"
    }
   ],
   "source": [
    "split_input_target(list('Tensorflow'))"
   ]
  },
  {
   "cell_type": "code",
   "execution_count": 39,
   "id": "c619405c",
   "metadata": {},
   "outputs": [],
   "source": [
    "dataset = sequences.map(split_input_target)"
   ]
  },
  {
   "cell_type": "code",
   "execution_count": 40,
   "id": "63e39d45",
   "metadata": {},
   "outputs": [
    {
     "name": "stdout",
     "output_type": "stream",
     "text": [
      "Input:  b'First Citizen:\\nBefore we proceed any further, hear me speak.\\n\\nAll:\\nSpeak, speak.\\n\\nFirst Citizen:\\nYou'\n",
      "Target:  b'irst Citizen:\\nBefore we proceed any further, hear me speak.\\n\\nAll:\\nSpeak, speak.\\n\\nFirst Citizen:\\nYou '\n"
     ]
    }
   ],
   "source": [
    "for input_example, target_example in dataset.take(1):\n",
    "    print(\"Input: \", text_from_ids(input_example).numpy())\n",
    "    print(\"Target: \", text_from_ids(target_example).numpy())"
   ]
  },
  {
   "cell_type": "markdown",
   "id": "dcf9ff4b",
   "metadata": {},
   "source": [
    "### Create training Batches"
   ]
  },
  {
   "cell_type": "code",
   "execution_count": 41,
   "id": "5df93029",
   "metadata": {},
   "outputs": [
    {
     "data": {
      "text/plain": [
       "<_PrefetchDataset element_spec=(TensorSpec(shape=(64, 100), dtype=tf.int64, name=None), TensorSpec(shape=(64, 100), dtype=tf.int64, name=None))>"
      ]
     },
     "execution_count": 41,
     "metadata": {},
     "output_type": "execute_result"
    }
   ],
   "source": [
    "BATCH_SIZE = 64\n",
    "BUFFER_SIZE = 10000\n",
    "dataset = (\n",
    "    dataset\n",
    "    .shuffle(BUFFER_SIZE)\n",
    "    .batch(BATCH_SIZE, drop_remainder=True)\n",
    "    .prefetch(tf.data.experimental.AUTOTUNE)\n",
    ")\n",
    "dataset"
   ]
  },
  {
   "cell_type": "markdown",
   "id": "5973e5d3",
   "metadata": {},
   "source": [
    "### Build the Model"
   ]
  },
  {
   "cell_type": "code",
   "execution_count": 42,
   "id": "04f1fd05",
   "metadata": {},
   "outputs": [],
   "source": [
    "# length of the vocabulary in stringlookup layer\n",
    "vocab_size = len(ids_from_chars.get_vocabulary())\n",
    "\n",
    "# the embedding dimension\n",
    "embedding_dim = 256\n",
    "\n",
    "# number of  RNN units\n",
    "rnn_units = 1024\n"
   ]
  },
  {
   "cell_type": "code",
   "execution_count": 52,
   "id": "600b8fff",
   "metadata": {},
   "outputs": [],
   "source": [
    "class MyModel(tf.keras.Model):\n",
    "    def __init__(self, vocab_size, embedding_dim, rnn_units):\n",
    "        super().__init__(self)\n",
    "        self.embedding = tf.keras.layers.Embedding(vocab_size, embedding_dim)\n",
    "        self.gru = tf.keras.layers.GRU(rnn_units,\n",
    "                                      return_sequences=True, \n",
    "                                      return_state=True)\n",
    "        self.dense = tf.keras.layers.Dense(vocab_size)\n",
    "    \n",
    "    def call(self, inputs, states=None, return_state=False, training=False):\n",
    "        x = inputs\n",
    "        x = self.embedding(x, training=training)\n",
    "        if states is None:\n",
    "            states = self.gru.get_initial_state(x)\n",
    "        x, states = self.gru(x, initial_state=states, training=training)\n",
    "        x = self.dense(x, training=training)\n",
    "        \n",
    "        if return_state:\n",
    "            return x, states\n",
    "        else:\n",
    "            return x"
   ]
  },
  {
   "cell_type": "code",
   "execution_count": 53,
   "id": "481f4f73",
   "metadata": {},
   "outputs": [],
   "source": [
    "model = MyModel(\n",
    "    vocab_size = vocab_size,\n",
    "    embedding_dim=embedding_dim,\n",
    "    rnn_units = rnn_units\n",
    ")\n"
   ]
  },
  {
   "cell_type": "code",
   "execution_count": 54,
   "id": "47f1e57b",
   "metadata": {},
   "outputs": [
    {
     "name": "stdout",
     "output_type": "stream",
     "text": [
      "(64, 100, 66) # (batch_size, sequence_length, vocab_size)\n"
     ]
    }
   ],
   "source": [
    "for input_example_batch, target_example_batch in dataset.take(1):\n",
    "    example_batch_predictions = model(input_example_batch)\n",
    "    print(example_batch_predictions.shape, \"# (batch_size, sequence_length, vocab_size)\")"
   ]
  },
  {
   "cell_type": "code",
   "execution_count": 55,
   "id": "5000295e",
   "metadata": {},
   "outputs": [
    {
     "name": "stdout",
     "output_type": "stream",
     "text": [
      "Model: \"my_model_3\"\n",
      "_________________________________________________________________\n",
      " Layer (type)                Output Shape              Param #   \n",
      "=================================================================\n",
      " embedding_3 (Embedding)     multiple                  16896     \n",
      "                                                                 \n",
      " gru_3 (GRU)                 multiple                  3938304   \n",
      "                                                                 \n",
      " dense_3 (Dense)             multiple                  67650     \n",
      "                                                                 \n",
      "=================================================================\n",
      "Total params: 4022850 (15.35 MB)\n",
      "Trainable params: 4022850 (15.35 MB)\n",
      "Non-trainable params: 0 (0.00 Byte)\n",
      "_________________________________________________________________\n"
     ]
    }
   ],
   "source": [
    "model.summary()"
   ]
  },
  {
   "cell_type": "code",
   "execution_count": 56,
   "id": "73c0589e",
   "metadata": {},
   "outputs": [],
   "source": [
    "sample_indices = tf.random.categorical(example_batch_predictions[0], num_samples=1)\n",
    "sample_indices = tf.squeeze(sample_indices, axis=-1).numpy()"
   ]
  },
  {
   "cell_type": "code",
   "execution_count": null,
   "id": "3ce19501",
   "metadata": {},
   "outputs": [],
   "source": []
  },
  {
   "cell_type": "code",
   "execution_count": 65,
   "id": "f5468950",
   "metadata": {},
   "outputs": [
    {
     "name": "stdout",
     "output_type": "stream",
     "text": [
      "Input:\n",
      " b\"hy to be hang'd,\\nThat wilt not stay her tongue.\\n\\nANTIGONUS:\\nHang all the husbands\\nThat cannot do tha\"\n",
      "\n",
      "Next Char Predictions:\n",
      " b\"jeKiG?[UNK]p&faPORsC3wHr3PegY,HJIp$in-$: uOfiAK&YTDwecupdZ''RuADsP[UNK]B&leG.uuWD\\nSLFj[UNK]fB,bAD&EAyhppddj3g 3o\"\n"
     ]
    }
   ],
   "source": [
    "print(\"Input:\\n\", text_from_ids(input_example_batch[0]).numpy())\n",
    "print()\n",
    "print(\"Next Char Predictions:\\n\", text_from_ids(sample_indices).numpy())"
   ]
  },
  {
   "cell_type": "code",
   "execution_count": 66,
   "id": "d08ec2e0",
   "metadata": {},
   "outputs": [],
   "source": [
    "loss = tf.losses.SparseCategoricalCrossentropy(from_logits=True)\n"
   ]
  },
  {
   "cell_type": "code",
   "execution_count": 67,
   "id": "b2261145",
   "metadata": {},
   "outputs": [
    {
     "name": "stdout",
     "output_type": "stream",
     "text": [
      "Prediction shape:  (64, 100, 66)  # (batch_size, sequence_length, vocab_size)\n",
      "Mean loss:         tf.Tensor(4.189401, shape=(), dtype=float32)\n"
     ]
    }
   ],
   "source": [
    "example_batch_mean_loss = loss(target_example_batch, example_batch_predictions)\n",
    "\n",
    "print(\"Prediction shape: \", example_batch_predictions.shape, \" # (batch_size, sequence_length, vocab_size)\")\n",
    "print(\"Mean loss:        \", example_batch_mean_loss)"
   ]
  },
  {
   "cell_type": "code",
   "execution_count": 68,
   "id": "0e030636",
   "metadata": {},
   "outputs": [
    {
     "data": {
      "text/plain": [
       "65.98327"
      ]
     },
     "execution_count": 68,
     "metadata": {},
     "output_type": "execute_result"
    }
   ],
   "source": [
    "tf.exp(example_batch_mean_loss).numpy()"
   ]
  },
  {
   "cell_type": "code",
   "execution_count": 69,
   "id": "76ed4239",
   "metadata": {},
   "outputs": [],
   "source": [
    "model.compile(optimizer='adam', loss=loss)"
   ]
  },
  {
   "cell_type": "markdown",
   "id": "727d0c3d",
   "metadata": {},
   "source": [
    "### Configure checkpoints"
   ]
  },
  {
   "cell_type": "code",
   "execution_count": 70,
   "id": "da2501fc",
   "metadata": {},
   "outputs": [],
   "source": [
    "# Directory where the checkpoints will be saved\n",
    "checkpoint_dir = './training_checkpoints'\n",
    "# Name of the checkpoint files\n",
    "checkpoint_prefix = os.path.join(checkpoint_dir, \"ckpt_{epoch}\")\n",
    "\n",
    "checkpoint_callback = tf.keras.callbacks.ModelCheckpoint(\n",
    "    filepath=checkpoint_prefix,\n",
    "    save_weights_only=True)"
   ]
  },
  {
   "cell_type": "code",
   "execution_count": 71,
   "id": "7008291b",
   "metadata": {},
   "outputs": [],
   "source": [
    "EPOCHS = 20"
   ]
  },
  {
   "cell_type": "code",
   "execution_count": 72,
   "id": "c16ed763",
   "metadata": {},
   "outputs": [
    {
     "name": "stdout",
     "output_type": "stream",
     "text": [
      "Epoch 1/20\n",
      "172/172 [==============================] - 521s 3s/step - loss: 2.7122\n",
      "Epoch 2/20\n",
      "172/172 [==============================] - 31690s 185s/step - loss: 1.9836\n",
      "Epoch 3/20\n",
      "172/172 [==============================] - 406s 2s/step - loss: 1.7045\n",
      "Epoch 4/20\n",
      "172/172 [==============================] - 387s 2s/step - loss: 1.5430\n",
      "Epoch 5/20\n",
      "172/172 [==============================] - 401s 2s/step - loss: 1.4443\n",
      "Epoch 6/20\n",
      "172/172 [==============================] - 420s 2s/step - loss: 1.3760\n",
      "Epoch 7/20\n",
      "172/172 [==============================] - 404s 2s/step - loss: 1.3236\n",
      "Epoch 8/20\n",
      "172/172 [==============================] - 506s 3s/step - loss: 1.2768\n",
      "Epoch 9/20\n",
      "172/172 [==============================] - 508s 3s/step - loss: 1.2361\n",
      "Epoch 10/20\n",
      "172/172 [==============================] - 531s 3s/step - loss: 1.1971\n",
      "Epoch 11/20\n",
      "172/172 [==============================] - 519s 3s/step - loss: 1.1556\n",
      "Epoch 12/20\n",
      "172/172 [==============================] - 535s 3s/step - loss: 1.1139\n",
      "Epoch 13/20\n",
      "172/172 [==============================] - 514s 3s/step - loss: 1.0692\n",
      "Epoch 14/20\n",
      "172/172 [==============================] - 427s 2s/step - loss: 1.0228\n",
      "Epoch 15/20\n",
      "172/172 [==============================] - 417s 2s/step - loss: 0.9726\n",
      "Epoch 16/20\n",
      "172/172 [==============================] - 404s 2s/step - loss: 0.9219\n",
      "Epoch 17/20\n",
      "172/172 [==============================] - 403s 2s/step - loss: 0.8693\n",
      "Epoch 18/20\n",
      "172/172 [==============================] - 406s 2s/step - loss: 0.8153\n",
      "Epoch 19/20\n",
      "172/172 [==============================] - 398s 2s/step - loss: 0.7636\n",
      "Epoch 20/20\n",
      "172/172 [==============================] - 446s 3s/step - loss: 0.7151\n"
     ]
    }
   ],
   "source": [
    "history = model.fit(dataset, epochs=EPOCHS, callbacks=[checkpoint_callback])"
   ]
  },
  {
   "cell_type": "code",
   "execution_count": null,
   "id": "e5e4ce0b",
   "metadata": {},
   "outputs": [],
   "source": []
  },
  {
   "cell_type": "code",
   "execution_count": 73,
   "id": "3fefcca3",
   "metadata": {},
   "outputs": [],
   "source": [
    "class OneStep(tf.keras.Model):\n",
    "  def __init__(self, model, chars_from_ids, ids_from_chars, temperature=1.0):\n",
    "    super().__init__()\n",
    "    self.temperature = temperature\n",
    "    self.model = model\n",
    "    self.chars_from_ids = chars_from_ids\n",
    "    self.ids_from_chars = ids_from_chars\n",
    "\n",
    "    # Create a mask to prevent \"[UNK]\" from being generated.\n",
    "    skip_ids = self.ids_from_chars(['[UNK]'])[:, None]\n",
    "    sparse_mask = tf.SparseTensor(\n",
    "        # Put a -inf at each bad index.\n",
    "        values=[-float('inf')]*len(skip_ids),\n",
    "        indices=skip_ids,\n",
    "        # Match the shape to the vocabulary\n",
    "        dense_shape=[len(ids_from_chars.get_vocabulary())])\n",
    "    self.prediction_mask = tf.sparse.to_dense(sparse_mask)\n",
    "\n",
    "  @tf.function\n",
    "  def generate_one_step(self, inputs, states=None):\n",
    "    # Convert strings to token IDs.\n",
    "    input_chars = tf.strings.unicode_split(inputs, 'UTF-8')\n",
    "    input_ids = self.ids_from_chars(input_chars).to_tensor()\n",
    "\n",
    "    # Run the model.\n",
    "    # predicted_logits.shape is [batch, char, next_char_logits]\n",
    "    predicted_logits, states = self.model(inputs=input_ids, states=states,\n",
    "                                          return_state=True)\n",
    "    # Only use the last prediction.\n",
    "    predicted_logits = predicted_logits[:, -1, :]\n",
    "    predicted_logits = predicted_logits/self.temperature\n",
    "    # Apply the prediction mask: prevent \"[UNK]\" from being generated.\n",
    "    predicted_logits = predicted_logits + self.prediction_mask\n",
    "\n",
    "    # Sample the output logits to generate token IDs.\n",
    "    predicted_ids = tf.random.categorical(predicted_logits, num_samples=1)\n",
    "    predicted_ids = tf.squeeze(predicted_ids, axis=-1)\n",
    "\n",
    "    # Convert from token ids to characters\n",
    "    predicted_chars = self.chars_from_ids(predicted_ids)\n",
    "\n",
    "    # Return the characters and model state.\n",
    "    return predicted_chars, states\n",
    "        "
   ]
  },
  {
   "cell_type": "code",
   "execution_count": 75,
   "id": "f1dac2c5",
   "metadata": {},
   "outputs": [],
   "source": [
    "one_step_model = OneStep(model, chars_from_ids, ids_from_chars)\n"
   ]
  },
  {
   "cell_type": "code",
   "execution_count": 87,
   "id": "0a21c251",
   "metadata": {},
   "outputs": [
    {
     "name": "stdout",
     "output_type": "stream",
     "text": [
      "Second \n",
      "\n",
      "________________________________________________________________________________\n",
      "\n",
      "Run time: 2.34786319732666\n"
     ]
    }
   ],
   "source": [
    "start = time.time()\n",
    "states = None\n",
    "next_char = tf.constant([\"ROMEW:\"])\n",
    "result = [next_char]\n",
    "\n",
    "for n in range(1000):\n",
    "    next_char,states = one_step_model.generate_one_step(next_char, states=states)\n",
    "    \n",
    "result = tf.strings.join(result)\n",
    "end = time.time()\n",
    "print(result[0].numpy().decode('utf-8'), '\\n\\n' + '_'*80)\n",
    "print('\\nRun time:', end - start)"
   ]
  },
  {
   "cell_type": "markdown",
   "id": "381c7630",
   "metadata": {},
   "source": [
    "### Advanced: Custom Training"
   ]
  },
  {
   "cell_type": "code",
   "execution_count": 93,
   "id": "9c4129bd",
   "metadata": {},
   "outputs": [],
   "source": [
    "class CustomTraining(MyModel):\n",
    "  @tf.function\n",
    "  def train_step(self, inputs):\n",
    "      inputs, labels = inputs\n",
    "      with tf.GradientTape() as tape:\n",
    "          predictions = self(inputs, training=True)\n",
    "          loss = self.loss(labels, predictions)\n",
    "      grads = tape.gradient(loss, model.trainable_variables)\n",
    "      self.optimizer.apply_gradients(zip(grads, model.trainable_variables))\n",
    "\n",
    "      return {'loss': loss}"
   ]
  },
  {
   "cell_type": "code",
   "execution_count": 94,
   "id": "6eb85699",
   "metadata": {},
   "outputs": [],
   "source": [
    "model = CustomTraining(\n",
    "    vocab_size=len(ids_from_chars.get_vocabulary()),\n",
    "    embedding_dim=embedding_dim,\n",
    "    rnn_units=rnn_units)"
   ]
  },
  {
   "cell_type": "code",
   "execution_count": 95,
   "id": "c598d07d",
   "metadata": {},
   "outputs": [],
   "source": [
    "model.compile(optimizer = tf.keras.optimizers.Adam(),\n",
    "              loss=tf.keras.losses.SparseCategoricalCrossentropy(from_logits=True))"
   ]
  },
  {
   "cell_type": "code",
   "execution_count": 96,
   "id": "b8f22320",
   "metadata": {},
   "outputs": [
    {
     "name": "stdout",
     "output_type": "stream",
     "text": [
      "172/172 [==============================] - 403s 2s/step - loss: 2.7167\n"
     ]
    },
    {
     "data": {
      "text/plain": [
       "<keras.src.callbacks.History at 0x20b82254280>"
      ]
     },
     "execution_count": 96,
     "metadata": {},
     "output_type": "execute_result"
    }
   ],
   "source": [
    "model.fit(dataset, epochs=1)"
   ]
  },
  {
   "cell_type": "markdown",
   "id": "f5f816d4",
   "metadata": {},
   "source": [
    "I have learned this tutorial from tensorflow official tutorials.If you want to know better you can check this link: https://www.tensorflow.org/text/tutorials/nmt_with_attention\n",
    "\n",
    "I will give you update text generation model soon. \n"
   ]
  },
  {
   "cell_type": "code",
   "execution_count": null,
   "id": "9573896d",
   "metadata": {},
   "outputs": [],
   "source": []
  }
 ],
 "metadata": {
  "kernelspec": {
   "display_name": "Python 3 (ipykernel)",
   "language": "python",
   "name": "python3"
  },
  "language_info": {
   "codemirror_mode": {
    "name": "ipython",
    "version": 3
   },
   "file_extension": ".py",
   "mimetype": "text/x-python",
   "name": "python",
   "nbconvert_exporter": "python",
   "pygments_lexer": "ipython3",
   "version": "3.10.6"
  }
 },
 "nbformat": 4,
 "nbformat_minor": 5
}
